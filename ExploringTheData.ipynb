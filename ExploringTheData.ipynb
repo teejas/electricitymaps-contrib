{
 "cells": [
  {
   "cell_type": "markdown",
   "id": "8007a3c3-9f93-48fe-96db-5289debf7c09",
   "metadata": {},
   "source": [
    "# Electricity Maps\n",
    "\n",
    "I want to start contributing to this open source project which aims to map the CO2 impact of electricity production and consumption globally. Seems pretty well maintained and a cool introduction to the GIS/mapping space too. I also want to get involved in cleantech projects, so this is a good start."
   ]
  },
  {
   "cell_type": "markdown",
   "id": "76585b19-685d-4d0c-acb3-ce30df1551c9",
   "metadata": {},
   "source": [
    "# Parsers\n",
    "\n",
    "The Python scripts located in `./parsers` are used to pull data from various public sources, such as [CAISO](https://www.caiso.com/Pages/default.aspx). That data then is likely transformed to some standard format before being stored in a database. Then the frontends (the Electricity Map website and app) use data from the proprietary database (rather than relying on raw data) to generate the maps and graphics displayed.\n",
    "\n",
    "The second and third part (transforms and frontend design) is something of an educated guess from me. The parser files are easy to understand and test though, and the coding looks generally legible and pleasant to read. I think looking through a few GitHub issues re: the parsers or maybe data that looks wrong could be a good jumping off point for this project. I do want to understand the overall architecture a bit better first before diving in: [Refer to #Overall Architecture]."
   ]
  },
  {
   "cell_type": "code",
   "execution_count": null,
   "id": "c6bc205d-0ea4-4880-a250-aed7a080df29",
   "metadata": {},
   "outputs": [],
   "source": []
  },
  {
   "cell_type": "markdown",
   "id": "793179ba-ee12-4002-9fc6-294857d7746d",
   "metadata": {},
   "source": [
    "# Overall Architecture\n",
    "### Backend\n",
    "- run `./parsers` scripts on some schedule to get more realtime data\n",
    "- certain public sources may allow webhooks for getting realtime data rather than polling?\n",
    "\n",
    "### Frontend\n",
    "- web and mobile app showing graphics, probably TypeScript + React Native? That would be ideal seeing as the mobile and web app are identical\n",
    "\n",
    "## How does data move?\n",
    "1. Python scripts, `./parsers`, pull raw data from various publically available sources\n",
    "2. Those same parsers transform the data so that the output is of a standard format\n",
    "3. [guess] background processes/jobs run on a server somewhere to execute all parsers every X minutes\n",
    "4. [guess] data is refreshed in some master database which is, in turn, used by the mobile and web frontends to generate the maps and graphics\n",
    "5. [guess] a replica database keeps data on a Y time delay, so in the event of data loss there is something to fallback to"
   ]
  }
 ],
 "metadata": {
  "kernelspec": {
   "display_name": "Python 3 (ipykernel)",
   "language": "python",
   "name": "python3"
  },
  "language_info": {
   "codemirror_mode": {
    "name": "ipython",
    "version": 3
   },
   "file_extension": ".py",
   "mimetype": "text/x-python",
   "name": "python",
   "nbconvert_exporter": "python",
   "pygments_lexer": "ipython3",
   "version": "3.11.4"
  }
 },
 "nbformat": 4,
 "nbformat_minor": 5
}
